{
  "nbformat": 4,
  "nbformat_minor": 0,
  "metadata": {
    "colab": {
      "provenance": [],
      "gpuType": "T4",
      "authorship_tag": "ABX9TyPdY6aO5G9Kbzdm9dCOFU6k",
      "include_colab_link": true
    },
    "kernelspec": {
      "name": "python3",
      "display_name": "Python 3"
    },
    "language_info": {
      "name": "python"
    },
    "accelerator": "GPU"
  },
  "cells": [
    {
      "cell_type": "markdown",
      "metadata": {
        "id": "view-in-github",
        "colab_type": "text"
      },
      "source": [
        "<a href=\"https://colab.research.google.com/github/shivansh1325/ML-Deep-Learning/blob/main/00Temserflow.ipynb\" target=\"_parent\"><img src=\"https://colab.research.google.com/assets/colab-badge.svg\" alt=\"Open In Colab\"/></a>"
      ]
    },
    {
      "cell_type": "code",
      "execution_count": null,
      "metadata": {
        "colab": {
          "base_uri": "https://localhost:8080/"
        },
        "id": "1K2t54gG23uN",
        "outputId": "0bca4b57-533f-4dc6-e739-cadd816d5bb2"
      },
      "outputs": [
        {
          "output_type": "stream",
          "name": "stdout",
          "text": [
            "2.17.0\n"
          ]
        }
      ],
      "source": [
        "import tensorflow as tf\n",
        "print(tf.__version__)"
      ]
    },
    {
      "cell_type": "code",
      "source": [
        "#create first tensor\n",
        "tf.constant(8)"
      ],
      "metadata": {
        "colab": {
          "base_uri": "https://localhost:8080/"
        },
        "id": "Ar8tx3u83uee",
        "outputId": "e997e4a0-2903-4547-e1bf-c925dde6cf3b"
      },
      "execution_count": null,
      "outputs": [
        {
          "output_type": "execute_result",
          "data": {
            "text/plain": [
              "<tf.Tensor: shape=(), dtype=int32, numpy=8>"
            ]
          },
          "metadata": {},
          "execution_count": 2
        }
      ]
    },
    {
      "cell_type": "code",
      "source": [
        "vector=tf.constant([2,3])\n",
        "vector\n",
        "vector.ndim"
      ],
      "metadata": {
        "colab": {
          "base_uri": "https://localhost:8080/"
        },
        "id": "HtJsLnnL4D0b",
        "outputId": "7a53259c-506d-450c-dc67-c7e6b7e5d3f2"
      },
      "execution_count": null,
      "outputs": [
        {
          "output_type": "execute_result",
          "data": {
            "text/plain": [
              "1"
            ]
          },
          "metadata": {},
          "execution_count": 3
        }
      ]
    },
    {
      "cell_type": "code",
      "source": [
        "mat=tf.constant([[5,6],\n",
        "                 [56,7]])\n",
        "mat"
      ],
      "metadata": {
        "colab": {
          "base_uri": "https://localhost:8080/"
        },
        "id": "IOcNyyjgv0WN",
        "outputId": "fa4140f2-8c60-4627-fc10-e435f1213a03"
      },
      "execution_count": null,
      "outputs": [
        {
          "output_type": "execute_result",
          "data": {
            "text/plain": [
              "<tf.Tensor: shape=(2, 2), dtype=int32, numpy=\n",
              "array([[ 5,  6],\n",
              "       [56,  7]], dtype=int32)>"
            ]
          },
          "metadata": {},
          "execution_count": 4
        }
      ]
    },
    {
      "cell_type": "code",
      "source": [
        "tensor=tf.constant([[[3,4,5],\n",
        "                    [6,7,8]],\n",
        "                    [[4,6,7],\n",
        "                    [7,8,0]],\n",
        "                    [[4,6,7],\n",
        "                    [7,8,0]],\n",
        "                    [[4,6,7],\n",
        "                    [7,8,0]]])\n",
        "tensor\n"
      ],
      "metadata": {
        "colab": {
          "base_uri": "https://localhost:8080/"
        },
        "id": "6WcM6QFkwM-8",
        "outputId": "da0046be-d77f-48bd-dc86-782e86df0a5e"
      },
      "execution_count": null,
      "outputs": [
        {
          "output_type": "execute_result",
          "data": {
            "text/plain": [
              "<tf.Tensor: shape=(4, 2, 3), dtype=int32, numpy=\n",
              "array([[[3, 4, 5],\n",
              "        [6, 7, 8]],\n",
              "\n",
              "       [[4, 6, 7],\n",
              "        [7, 8, 0]],\n",
              "\n",
              "       [[4, 6, 7],\n",
              "        [7, 8, 0]],\n",
              "\n",
              "       [[4, 6, 7],\n",
              "        [7, 8, 0]]], dtype=int32)>"
            ]
          },
          "metadata": {},
          "execution_count": 5
        }
      ]
    },
    {
      "cell_type": "code",
      "source": [
        "tensor.ndim"
      ],
      "metadata": {
        "colab": {
          "base_uri": "https://localhost:8080/"
        },
        "id": "721Udose0TS0",
        "outputId": "08ef8b7e-09e8-44eb-8fc8-63b82d443cde"
      },
      "execution_count": null,
      "outputs": [
        {
          "output_type": "execute_result",
          "data": {
            "text/plain": [
              "3"
            ]
          },
          "metadata": {},
          "execution_count": 6
        }
      ]
    },
    {
      "cell_type": "code",
      "source": [
        "changable_scaler=tf.Variable(8)\n",
        "changable_Vector=tf.Variable([8,9])\n",
        "changable_matrix=tf.Variable([[8,9],\n",
        "                              [8,3]])\n",
        "changable_tensor=tf.Variable([[[3,4,5],\n",
        "                    [6,7,8]],\n",
        "                    [[4,6,7],\n",
        "                    [7,8,0]],\n",
        "                    [[4,6,7],\n",
        "                    [7,8,0]],\n",
        "                    [[4,6,7],\n",
        "                    [7,8,0]]])\n"
      ],
      "metadata": {
        "id": "MQ3rpesC1BxC"
      },
      "execution_count": null,
      "outputs": []
    },
    {
      "cell_type": "code",
      "source": [
        "changable_scaler,\n",
        "changable_Vector,\n",
        "changable_matrix,\n",
        "changable_tensor"
      ],
      "metadata": {
        "colab": {
          "base_uri": "https://localhost:8080/"
        },
        "id": "Ey1y74jYHyGH",
        "outputId": "203768c5-3bd8-4db6-aa14-56beb64f9cb2"
      },
      "execution_count": null,
      "outputs": [
        {
          "output_type": "execute_result",
          "data": {
            "text/plain": [
              "<tf.Variable 'Variable:0' shape=(4, 2, 3) dtype=int32, numpy=\n",
              "array([[[3, 4, 5],\n",
              "        [6, 7, 8]],\n",
              "\n",
              "       [[4, 6, 7],\n",
              "        [7, 8, 0]],\n",
              "\n",
              "       [[4, 6, 7],\n",
              "        [7, 8, 0]],\n",
              "\n",
              "       [[4, 6, 7],\n",
              "        [7, 8, 0]]], dtype=int32)>"
            ]
          },
          "metadata": {},
          "execution_count": 8
        }
      ]
    },
    {
      "cell_type": "code",
      "source": [
        "changable_scaler.assign_add(2)\n",
        "changable_scaler"
      ],
      "metadata": {
        "colab": {
          "base_uri": "https://localhost:8080/"
        },
        "id": "E3Gx1HoPIQ5I",
        "outputId": "40fc4423-4893-4ecc-9d57-44f989f1396e"
      },
      "execution_count": null,
      "outputs": [
        {
          "output_type": "execute_result",
          "data": {
            "text/plain": [
              "<tf.Variable 'Variable:0' shape=() dtype=int32, numpy=10>"
            ]
          },
          "metadata": {},
          "execution_count": 9
        }
      ]
    },
    {
      "cell_type": "code",
      "source": [
        "changable_Vector[0].assign(8)\n",
        "changable_Vector"
      ],
      "metadata": {
        "colab": {
          "base_uri": "https://localhost:8080/"
        },
        "id": "oExcbiVuoISx",
        "outputId": "3d27e21d-8a2a-4069-fe8d-740fe2058ef3"
      },
      "execution_count": null,
      "outputs": [
        {
          "output_type": "execute_result",
          "data": {
            "text/plain": [
              "<tf.Variable 'Variable:0' shape=(2,) dtype=int32, numpy=array([8, 9], dtype=int32)>"
            ]
          },
          "metadata": {},
          "execution_count": 10
        }
      ]
    },
    {
      "cell_type": "code",
      "source": [
        "changable_Vector.assign_add([10,0])\n",
        "changable_Vector"
      ],
      "metadata": {
        "colab": {
          "base_uri": "https://localhost:8080/"
        },
        "id": "sER_rTtmooYp",
        "outputId": "3eaae3f8-a4b0-4ecd-9d68-982fdeac9e66"
      },
      "execution_count": null,
      "outputs": [
        {
          "output_type": "execute_result",
          "data": {
            "text/plain": [
              "<tf.Variable 'Variable:0' shape=(2,) dtype=int32, numpy=array([18,  9], dtype=int32)>"
            ]
          },
          "metadata": {},
          "execution_count": 11
        }
      ]
    },
    {
      "cell_type": "markdown",
      "source": [
        "### Creating random tensor"
      ],
      "metadata": {
        "id": "ZBri2AT1sZzN"
      }
    },
    {
      "cell_type": "code",
      "source": [
        "random_1=tf.random.Generator.from_seed(50)\n",
        "random_1=random_1.normal(shape=(2,3))\n",
        "random_2=tf.random.Generator.from_seed(50)\n",
        "random_2=random_2.normal(shape=(2,3))\n",
        "random_1,random_2,random_1==random_2"
      ],
      "metadata": {
        "colab": {
          "base_uri": "https://localhost:8080/"
        },
        "id": "zK_yh-X4sc_O",
        "outputId": "51fa99a0-f2b5-4a6f-cbe8-6e79e7ed7d74"
      },
      "execution_count": null,
      "outputs": [
        {
          "output_type": "execute_result",
          "data": {
            "text/plain": [
              "(<tf.Tensor: shape=(2, 3), dtype=float32, numpy=\n",
              " array([[ 0.45331386,  1.1487608 , -1.2659091 ],\n",
              "        [-0.47450137,  2.006022  ,  0.28288034]], dtype=float32)>,\n",
              " <tf.Tensor: shape=(2, 3), dtype=float32, numpy=\n",
              " array([[ 0.45331386,  1.1487608 , -1.2659091 ],\n",
              "        [-0.47450137,  2.006022  ,  0.28288034]], dtype=float32)>,\n",
              " <tf.Tensor: shape=(2, 3), dtype=bool, numpy=\n",
              " array([[ True,  True,  True],\n",
              "        [ True,  True,  True]])>)"
            ]
          },
          "metadata": {},
          "execution_count": 12
        }
      ]
    },
    {
      "cell_type": "code",
      "source": [
        "unsuffeled_tensor=tf.random.Generator.from_seed(42)\n",
        "unsuffeled_tensor=unsuffeled_tensor.normal(shape=(3,2))\n",
        "unsuffeled_tensor"
      ],
      "metadata": {
        "colab": {
          "base_uri": "https://localhost:8080/"
        },
        "id": "VULKMb9G5MeX",
        "outputId": "9e0a94e6-d5b9-4f1e-a4ed-80739b0f9b8b"
      },
      "execution_count": null,
      "outputs": [
        {
          "output_type": "execute_result",
          "data": {
            "text/plain": [
              "<tf.Tensor: shape=(3, 2), dtype=float32, numpy=\n",
              "array([[-0.7565803 , -0.06854702],\n",
              "       [ 0.07595026, -1.2573844 ],\n",
              "       [-0.23193765, -1.8107855 ]], dtype=float32)>"
            ]
          },
          "metadata": {},
          "execution_count": 13
        }
      ]
    },
    {
      "cell_type": "code",
      "source": [
        "tf.random.set_seed(4)\n",
        "tf.random.shuffle(unsuffeled_tensor )"
      ],
      "metadata": {
        "colab": {
          "base_uri": "https://localhost:8080/"
        },
        "id": "255Wu9Dha2Pn",
        "outputId": "eaf3f33f-a52f-4104-d36a-7a3a624eb6b7"
      },
      "execution_count": null,
      "outputs": [
        {
          "output_type": "execute_result",
          "data": {
            "text/plain": [
              "<tf.Tensor: shape=(3, 2), dtype=float32, numpy=\n",
              "array([[-0.7565803 , -0.06854702],\n",
              "       [ 0.07595026, -1.2573844 ],\n",
              "       [-0.23193765, -1.8107855 ]], dtype=float32)>"
            ]
          },
          "metadata": {},
          "execution_count": 14
        }
      ]
    },
    {
      "cell_type": "code",
      "source": [
        "tf.ones([3,2])"
      ],
      "metadata": {
        "colab": {
          "base_uri": "https://localhost:8080/"
        },
        "id": "JvpjwpKkcaUw",
        "outputId": "8238df2f-0ecb-467c-f625-98d0bff0bdbd"
      },
      "execution_count": null,
      "outputs": [
        {
          "output_type": "execute_result",
          "data": {
            "text/plain": [
              "<tf.Tensor: shape=(3, 2), dtype=float32, numpy=\n",
              "array([[1., 1.],\n",
              "       [1., 1.],\n",
              "       [1., 1.]], dtype=float32)>"
            ]
          },
          "metadata": {},
          "execution_count": 15
        }
      ]
    },
    {
      "cell_type": "code",
      "source": [
        "import numpy as np"
      ],
      "metadata": {
        "id": "9fxZ9dtwg7zu"
      },
      "execution_count": null,
      "outputs": []
    },
    {
      "cell_type": "code",
      "source": [
        "array_A=np.arange(0,50,dtype=int)\n",
        "array_A"
      ],
      "metadata": {
        "colab": {
          "base_uri": "https://localhost:8080/"
        },
        "id": "v5nJev5ShHAd",
        "outputId": "38912d9c-33df-4648-b53b-e0ba390cde20"
      },
      "execution_count": null,
      "outputs": [
        {
          "output_type": "execute_result",
          "data": {
            "text/plain": [
              "array([ 0,  1,  2,  3,  4,  5,  6,  7,  8,  9, 10, 11, 12, 13, 14, 15, 16,\n",
              "       17, 18, 19, 20, 21, 22, 23, 24, 25, 26, 27, 28, 29, 30, 31, 32, 33,\n",
              "       34, 35, 36, 37, 38, 39, 40, 41, 42, 43, 44, 45, 46, 47, 48, 49])"
            ]
          },
          "metadata": {},
          "execution_count": 17
        }
      ]
    },
    {
      "cell_type": "code",
      "source": [
        "tf.constant(array_A,shape=(25,2))"
      ],
      "metadata": {
        "colab": {
          "base_uri": "https://localhost:8080/"
        },
        "id": "fW3zQd0shUNG",
        "outputId": "e6a26350-99ba-4774-a287-c314cc19172b"
      },
      "execution_count": null,
      "outputs": [
        {
          "output_type": "execute_result",
          "data": {
            "text/plain": [
              "<tf.Tensor: shape=(25, 2), dtype=int64, numpy=\n",
              "array([[ 0,  1],\n",
              "       [ 2,  3],\n",
              "       [ 4,  5],\n",
              "       [ 6,  7],\n",
              "       [ 8,  9],\n",
              "       [10, 11],\n",
              "       [12, 13],\n",
              "       [14, 15],\n",
              "       [16, 17],\n",
              "       [18, 19],\n",
              "       [20, 21],\n",
              "       [22, 23],\n",
              "       [24, 25],\n",
              "       [26, 27],\n",
              "       [28, 29],\n",
              "       [30, 31],\n",
              "       [32, 33],\n",
              "       [34, 35],\n",
              "       [36, 37],\n",
              "       [38, 39],\n",
              "       [40, 41],\n",
              "       [42, 43],\n",
              "       [44, 45],\n",
              "       [46, 47],\n",
              "       [48, 49]])>"
            ]
          },
          "metadata": {},
          "execution_count": 18
        }
      ]
    },
    {
      "cell_type": "code",
      "source": [
        "rank_4_tensor=tf.ones(shape=(3,5,4,6), dtype=tf.int32)"
      ],
      "metadata": {
        "id": "ScpsemWahqWc"
      },
      "execution_count": null,
      "outputs": []
    },
    {
      "cell_type": "code",
      "source": [
        "rank_4_tensor,tf.size(rank_4_tensor)"
      ],
      "metadata": {
        "colab": {
          "base_uri": "https://localhost:8080/"
        },
        "id": "NFxYlfC61YbJ",
        "outputId": "d788de58-7d8c-4541-804f-67cb6cfbbafb"
      },
      "execution_count": null,
      "outputs": [
        {
          "output_type": "execute_result",
          "data": {
            "text/plain": [
              "(<tf.Tensor: shape=(3, 5, 4, 6), dtype=int32, numpy=\n",
              " array([[[[1, 1, 1, 1, 1, 1],\n",
              "          [1, 1, 1, 1, 1, 1],\n",
              "          [1, 1, 1, 1, 1, 1],\n",
              "          [1, 1, 1, 1, 1, 1]],\n",
              " \n",
              "         [[1, 1, 1, 1, 1, 1],\n",
              "          [1, 1, 1, 1, 1, 1],\n",
              "          [1, 1, 1, 1, 1, 1],\n",
              "          [1, 1, 1, 1, 1, 1]],\n",
              " \n",
              "         [[1, 1, 1, 1, 1, 1],\n",
              "          [1, 1, 1, 1, 1, 1],\n",
              "          [1, 1, 1, 1, 1, 1],\n",
              "          [1, 1, 1, 1, 1, 1]],\n",
              " \n",
              "         [[1, 1, 1, 1, 1, 1],\n",
              "          [1, 1, 1, 1, 1, 1],\n",
              "          [1, 1, 1, 1, 1, 1],\n",
              "          [1, 1, 1, 1, 1, 1]],\n",
              " \n",
              "         [[1, 1, 1, 1, 1, 1],\n",
              "          [1, 1, 1, 1, 1, 1],\n",
              "          [1, 1, 1, 1, 1, 1],\n",
              "          [1, 1, 1, 1, 1, 1]]],\n",
              " \n",
              " \n",
              "        [[[1, 1, 1, 1, 1, 1],\n",
              "          [1, 1, 1, 1, 1, 1],\n",
              "          [1, 1, 1, 1, 1, 1],\n",
              "          [1, 1, 1, 1, 1, 1]],\n",
              " \n",
              "         [[1, 1, 1, 1, 1, 1],\n",
              "          [1, 1, 1, 1, 1, 1],\n",
              "          [1, 1, 1, 1, 1, 1],\n",
              "          [1, 1, 1, 1, 1, 1]],\n",
              " \n",
              "         [[1, 1, 1, 1, 1, 1],\n",
              "          [1, 1, 1, 1, 1, 1],\n",
              "          [1, 1, 1, 1, 1, 1],\n",
              "          [1, 1, 1, 1, 1, 1]],\n",
              " \n",
              "         [[1, 1, 1, 1, 1, 1],\n",
              "          [1, 1, 1, 1, 1, 1],\n",
              "          [1, 1, 1, 1, 1, 1],\n",
              "          [1, 1, 1, 1, 1, 1]],\n",
              " \n",
              "         [[1, 1, 1, 1, 1, 1],\n",
              "          [1, 1, 1, 1, 1, 1],\n",
              "          [1, 1, 1, 1, 1, 1],\n",
              "          [1, 1, 1, 1, 1, 1]]],\n",
              " \n",
              " \n",
              "        [[[1, 1, 1, 1, 1, 1],\n",
              "          [1, 1, 1, 1, 1, 1],\n",
              "          [1, 1, 1, 1, 1, 1],\n",
              "          [1, 1, 1, 1, 1, 1]],\n",
              " \n",
              "         [[1, 1, 1, 1, 1, 1],\n",
              "          [1, 1, 1, 1, 1, 1],\n",
              "          [1, 1, 1, 1, 1, 1],\n",
              "          [1, 1, 1, 1, 1, 1]],\n",
              " \n",
              "         [[1, 1, 1, 1, 1, 1],\n",
              "          [1, 1, 1, 1, 1, 1],\n",
              "          [1, 1, 1, 1, 1, 1],\n",
              "          [1, 1, 1, 1, 1, 1]],\n",
              " \n",
              "         [[1, 1, 1, 1, 1, 1],\n",
              "          [1, 1, 1, 1, 1, 1],\n",
              "          [1, 1, 1, 1, 1, 1],\n",
              "          [1, 1, 1, 1, 1, 1]],\n",
              " \n",
              "         [[1, 1, 1, 1, 1, 1],\n",
              "          [1, 1, 1, 1, 1, 1],\n",
              "          [1, 1, 1, 1, 1, 1],\n",
              "          [1, 1, 1, 1, 1, 1]]]], dtype=int32)>,\n",
              " <tf.Tensor: shape=(), dtype=int32, numpy=360>)"
            ]
          },
          "metadata": {},
          "execution_count": 20
        }
      ]
    },
    {
      "cell_type": "code",
      "source": [
        "rank_4_tensor.ndim,rank_4_tensor[2]"
      ],
      "metadata": {
        "colab": {
          "base_uri": "https://localhost:8080/"
        },
        "id": "DGgv8YW91fA6",
        "outputId": "2086fff4-c053-40a7-e97e-e803cd35df97"
      },
      "execution_count": null,
      "outputs": [
        {
          "output_type": "execute_result",
          "data": {
            "text/plain": [
              "(4,\n",
              " <tf.Tensor: shape=(5, 4, 6), dtype=int32, numpy=\n",
              " array([[[1, 1, 1, 1, 1, 1],\n",
              "         [1, 1, 1, 1, 1, 1],\n",
              "         [1, 1, 1, 1, 1, 1],\n",
              "         [1, 1, 1, 1, 1, 1]],\n",
              " \n",
              "        [[1, 1, 1, 1, 1, 1],\n",
              "         [1, 1, 1, 1, 1, 1],\n",
              "         [1, 1, 1, 1, 1, 1],\n",
              "         [1, 1, 1, 1, 1, 1]],\n",
              " \n",
              "        [[1, 1, 1, 1, 1, 1],\n",
              "         [1, 1, 1, 1, 1, 1],\n",
              "         [1, 1, 1, 1, 1, 1],\n",
              "         [1, 1, 1, 1, 1, 1]],\n",
              " \n",
              "        [[1, 1, 1, 1, 1, 1],\n",
              "         [1, 1, 1, 1, 1, 1],\n",
              "         [1, 1, 1, 1, 1, 1],\n",
              "         [1, 1, 1, 1, 1, 1]],\n",
              " \n",
              "        [[1, 1, 1, 1, 1, 1],\n",
              "         [1, 1, 1, 1, 1, 1],\n",
              "         [1, 1, 1, 1, 1, 1],\n",
              "         [1, 1, 1, 1, 1, 1]]], dtype=int32)>)"
            ]
          },
          "metadata": {},
          "execution_count": 21
        }
      ]
    },
    {
      "cell_type": "code",
      "source": [
        "rank_4_tensor.shape"
      ],
      "metadata": {
        "id": "SSBRphnQ3JX5",
        "colab": {
          "base_uri": "https://localhost:8080/"
        },
        "outputId": "62545ef3-6690-4860-f9ec-00e7575939eb"
      },
      "execution_count": null,
      "outputs": [
        {
          "output_type": "execute_result",
          "data": {
            "text/plain": [
              "TensorShape([3, 5, 4, 6])"
            ]
          },
          "metadata": {},
          "execution_count": 22
        }
      ]
    },
    {
      "cell_type": "code",
      "source": [
        "rank_4_tensor.ndim"
      ],
      "metadata": {
        "colab": {
          "base_uri": "https://localhost:8080/"
        },
        "id": "Td72wGSA24VU",
        "outputId": "81005708-f76a-4c67-cac8-1c103d8304e4"
      },
      "execution_count": null,
      "outputs": [
        {
          "output_type": "execute_result",
          "data": {
            "text/plain": [
              "4"
            ]
          },
          "metadata": {},
          "execution_count": 23
        }
      ]
    },
    {
      "cell_type": "code",
      "source": [
        "# Get various attributes of tensor\n",
        "print(\"Datatype of every element:\", rank_4_tensor.dtype)\n",
        "print(\"Number of dimensions (rank):\", rank_4_tensor.ndim)\n",
        "print(\"Shape of tensor:\", rank_4_tensor.shape)\n",
        "print(\"Elements along axis 0 of tensor:\", rank_4_tensor.shape[0])\n",
        "print(\"Elements along last axis of tensor:\", rank_4_tensor.shape[-1])\n",
        "print(\"Total number of elements (3, 5, 4, 6):\", tf.size(rank_4_tensor).numpy()) # .numpy() converts to NumPy array"
      ],
      "metadata": {
        "colab": {
          "base_uri": "https://localhost:8080/"
        },
        "id": "kCg7Xvpl3QxL",
        "outputId": "6a2791a1-66fc-4207-8896-f7d5af275619"
      },
      "execution_count": null,
      "outputs": [
        {
          "output_type": "stream",
          "name": "stdout",
          "text": [
            "Datatype of every element: <dtype: 'int32'>\n",
            "Number of dimensions (rank): 4\n",
            "Shape of tensor: (3, 5, 4, 6)\n",
            "Elements along axis 0 of tensor: 3\n",
            "Elements along last axis of tensor: 6\n",
            "Total number of elements (3, 5, 4, 6): 360\n"
          ]
        }
      ]
    },
    {
      "cell_type": "code",
      "source": [
        "rank_4_tensor[:2,:2,:3,:2]"
      ],
      "metadata": {
        "colab": {
          "base_uri": "https://localhost:8080/"
        },
        "id": "eOq_L6e743Md",
        "outputId": "60e8ec8b-7f42-408d-f259-eee083a6737f"
      },
      "execution_count": null,
      "outputs": [
        {
          "output_type": "execute_result",
          "data": {
            "text/plain": [
              "<tf.Tensor: shape=(2, 2, 3, 2), dtype=int32, numpy=\n",
              "array([[[[1, 1],\n",
              "         [1, 1],\n",
              "         [1, 1]],\n",
              "\n",
              "        [[1, 1],\n",
              "         [1, 1],\n",
              "         [1, 1]]],\n",
              "\n",
              "\n",
              "       [[[1, 1],\n",
              "         [1, 1],\n",
              "         [1, 1]],\n",
              "\n",
              "        [[1, 1],\n",
              "         [1, 1],\n",
              "         [1, 1]]]], dtype=int32)>"
            ]
          },
          "metadata": {},
          "execution_count": 25
        }
      ]
    },
    {
      "cell_type": "code",
      "source": [
        "rank_4_tensor.shape"
      ],
      "metadata": {
        "colab": {
          "base_uri": "https://localhost:8080/"
        },
        "id": "lG5rTpw9g96s",
        "outputId": "e735ddf2-d617-4569-ba10-b61aa60ffdc6"
      },
      "execution_count": null,
      "outputs": [
        {
          "output_type": "execute_result",
          "data": {
            "text/plain": [
              "TensorShape([3, 5, 4, 6])"
            ]
          },
          "metadata": {},
          "execution_count": 26
        }
      ]
    },
    {
      "cell_type": "code",
      "source": [
        "rank_4_tensor[1:2,:,:,:]"
      ],
      "metadata": {
        "colab": {
          "base_uri": "https://localhost:8080/"
        },
        "id": "Q9KMTk6adZBI",
        "outputId": "eea23607-7762-4b16-cffc-d4ae1e45fd4c"
      },
      "execution_count": null,
      "outputs": [
        {
          "output_type": "execute_result",
          "data": {
            "text/plain": [
              "<tf.Tensor: shape=(1, 5, 4, 6), dtype=int32, numpy=\n",
              "array([[[[1, 1, 1, 1, 1, 1],\n",
              "         [1, 1, 1, 1, 1, 1],\n",
              "         [1, 1, 1, 1, 1, 1],\n",
              "         [1, 1, 1, 1, 1, 1]],\n",
              "\n",
              "        [[1, 1, 1, 1, 1, 1],\n",
              "         [1, 1, 1, 1, 1, 1],\n",
              "         [1, 1, 1, 1, 1, 1],\n",
              "         [1, 1, 1, 1, 1, 1]],\n",
              "\n",
              "        [[1, 1, 1, 1, 1, 1],\n",
              "         [1, 1, 1, 1, 1, 1],\n",
              "         [1, 1, 1, 1, 1, 1],\n",
              "         [1, 1, 1, 1, 1, 1]],\n",
              "\n",
              "        [[1, 1, 1, 1, 1, 1],\n",
              "         [1, 1, 1, 1, 1, 1],\n",
              "         [1, 1, 1, 1, 1, 1],\n",
              "         [1, 1, 1, 1, 1, 1]],\n",
              "\n",
              "        [[1, 1, 1, 1, 1, 1],\n",
              "         [1, 1, 1, 1, 1, 1],\n",
              "         [1, 1, 1, 1, 1, 1],\n",
              "         [1, 1, 1, 1, 1, 1]]]], dtype=int32)>"
            ]
          },
          "metadata": {},
          "execution_count": 27
        }
      ]
    },
    {
      "cell_type": "code",
      "source": [
        "scam=tf.ones(shape=(6000,3), dtype=tf.int32)\n",
        "scam[5:]"
      ],
      "metadata": {
        "id": "4nLq0O8WdvUN",
        "colab": {
          "base_uri": "https://localhost:8080/"
        },
        "outputId": "0e29eaed-7471-40ab-c637-801f1124c00e"
      },
      "execution_count": null,
      "outputs": [
        {
          "output_type": "execute_result",
          "data": {
            "text/plain": [
              "<tf.Tensor: shape=(5995, 3), dtype=int32, numpy=\n",
              "array([[1, 1, 1],\n",
              "       [1, 1, 1],\n",
              "       [1, 1, 1],\n",
              "       ...,\n",
              "       [1, 1, 1],\n",
              "       [1, 1, 1],\n",
              "       [1, 1, 1]], dtype=int32)>"
            ]
          },
          "metadata": {},
          "execution_count": 28
        }
      ]
    },
    {
      "cell_type": "code",
      "source": [
        "r2=tf.constant([[1,2],\n",
        "               [3,4],\n",
        "                [4,7]])\n",
        "r2"
      ],
      "metadata": {
        "colab": {
          "base_uri": "https://localhost:8080/"
        },
        "id": "rFtxAAv_-muk",
        "outputId": "b270883d-c020-436b-e3ff-734b7ad1e2f5"
      },
      "execution_count": null,
      "outputs": [
        {
          "output_type": "execute_result",
          "data": {
            "text/plain": [
              "<tf.Tensor: shape=(3, 2), dtype=int32, numpy=\n",
              "array([[1, 2],\n",
              "       [3, 4],\n",
              "       [4, 7]], dtype=int32)>"
            ]
          },
          "metadata": {},
          "execution_count": 29
        }
      ]
    },
    {
      "cell_type": "code",
      "source": [
        "r2[:-1]"
      ],
      "metadata": {
        "colab": {
          "base_uri": "https://localhost:8080/"
        },
        "id": "gmQdWR5_C8fB",
        "outputId": "5a692407-68c0-4a24-b332-35c39a4d80e5"
      },
      "execution_count": null,
      "outputs": [
        {
          "output_type": "execute_result",
          "data": {
            "text/plain": [
              "<tf.Tensor: shape=(2, 2), dtype=int32, numpy=\n",
              "array([[1, 2],\n",
              "       [3, 4]], dtype=int32)>"
            ]
          },
          "metadata": {},
          "execution_count": 30
        }
      ]
    },
    {
      "cell_type": "code",
      "source": [
        "img=tf.zeros(shape=(60000, 28, 28), dtype=tf.int32)\n",
        "img"
      ],
      "metadata": {
        "colab": {
          "base_uri": "https://localhost:8080/"
        },
        "id": "Ljg2aVjqDy3J",
        "outputId": "0073cb99-fe98-4ad9-c6e3-ca17b1cb9ab1"
      },
      "execution_count": null,
      "outputs": [
        {
          "output_type": "execute_result",
          "data": {
            "text/plain": [
              "<tf.Tensor: shape=(60000, 28, 28), dtype=int32, numpy=\n",
              "array([[[0, 0, 0, ..., 0, 0, 0],\n",
              "        [0, 0, 0, ..., 0, 0, 0],\n",
              "        [0, 0, 0, ..., 0, 0, 0],\n",
              "        ...,\n",
              "        [0, 0, 0, ..., 0, 0, 0],\n",
              "        [0, 0, 0, ..., 0, 0, 0],\n",
              "        [0, 0, 0, ..., 0, 0, 0]],\n",
              "\n",
              "       [[0, 0, 0, ..., 0, 0, 0],\n",
              "        [0, 0, 0, ..., 0, 0, 0],\n",
              "        [0, 0, 0, ..., 0, 0, 0],\n",
              "        ...,\n",
              "        [0, 0, 0, ..., 0, 0, 0],\n",
              "        [0, 0, 0, ..., 0, 0, 0],\n",
              "        [0, 0, 0, ..., 0, 0, 0]],\n",
              "\n",
              "       [[0, 0, 0, ..., 0, 0, 0],\n",
              "        [0, 0, 0, ..., 0, 0, 0],\n",
              "        [0, 0, 0, ..., 0, 0, 0],\n",
              "        ...,\n",
              "        [0, 0, 0, ..., 0, 0, 0],\n",
              "        [0, 0, 0, ..., 0, 0, 0],\n",
              "        [0, 0, 0, ..., 0, 0, 0]],\n",
              "\n",
              "       ...,\n",
              "\n",
              "       [[0, 0, 0, ..., 0, 0, 0],\n",
              "        [0, 0, 0, ..., 0, 0, 0],\n",
              "        [0, 0, 0, ..., 0, 0, 0],\n",
              "        ...,\n",
              "        [0, 0, 0, ..., 0, 0, 0],\n",
              "        [0, 0, 0, ..., 0, 0, 0],\n",
              "        [0, 0, 0, ..., 0, 0, 0]],\n",
              "\n",
              "       [[0, 0, 0, ..., 0, 0, 0],\n",
              "        [0, 0, 0, ..., 0, 0, 0],\n",
              "        [0, 0, 0, ..., 0, 0, 0],\n",
              "        ...,\n",
              "        [0, 0, 0, ..., 0, 0, 0],\n",
              "        [0, 0, 0, ..., 0, 0, 0],\n",
              "        [0, 0, 0, ..., 0, 0, 0]],\n",
              "\n",
              "       [[0, 0, 0, ..., 0, 0, 0],\n",
              "        [0, 0, 0, ..., 0, 0, 0],\n",
              "        [0, 0, 0, ..., 0, 0, 0],\n",
              "        ...,\n",
              "        [0, 0, 0, ..., 0, 0, 0],\n",
              "        [0, 0, 0, ..., 0, 0, 0],\n",
              "        [0, 0, 0, ..., 0, 0, 0]]], dtype=int32)>"
            ]
          },
          "metadata": {},
          "execution_count": 31
        }
      ]
    },
    {
      "cell_type": "code",
      "source": [
        "tf.expand_dims(r2,axis=2)"
      ],
      "metadata": {
        "colab": {
          "base_uri": "https://localhost:8080/"
        },
        "id": "wScvEkFONiEa",
        "outputId": "aa15f9c1-2c3c-4974-8b3c-77e7999d170a"
      },
      "execution_count": null,
      "outputs": [
        {
          "output_type": "execute_result",
          "data": {
            "text/plain": [
              "<tf.Tensor: shape=(3, 2, 1), dtype=int32, numpy=\n",
              "array([[[1],\n",
              "        [2]],\n",
              "\n",
              "       [[3],\n",
              "        [4]],\n",
              "\n",
              "       [[4],\n",
              "        [7]]], dtype=int32)>"
            ]
          },
          "metadata": {},
          "execution_count": 32
        }
      ]
    },
    {
      "cell_type": "markdown",
      "source": [
        "Basic Operation"
      ],
      "metadata": {
        "id": "fvM5mt1aQmMd"
      }
    },
    {
      "cell_type": "code",
      "source": [
        "tensor=tf.constant(tf.ones(shape=(90000,2,3)))\n",
        "tensor"
      ],
      "metadata": {
        "id": "H1VNaCYFQi5s",
        "colab": {
          "base_uri": "https://localhost:8080/"
        },
        "outputId": "3c477e2e-f225-418b-be2c-85f71b78d83b"
      },
      "execution_count": null,
      "outputs": [
        {
          "output_type": "execute_result",
          "data": {
            "text/plain": [
              "<tf.Tensor: shape=(90000, 2, 3), dtype=float32, numpy=\n",
              "array([[[1., 1., 1.],\n",
              "        [1., 1., 1.]],\n",
              "\n",
              "       [[1., 1., 1.],\n",
              "        [1., 1., 1.]],\n",
              "\n",
              "       [[1., 1., 1.],\n",
              "        [1., 1., 1.]],\n",
              "\n",
              "       ...,\n",
              "\n",
              "       [[1., 1., 1.],\n",
              "        [1., 1., 1.]],\n",
              "\n",
              "       [[1., 1., 1.],\n",
              "        [1., 1., 1.]],\n",
              "\n",
              "       [[1., 1., 1.],\n",
              "        [1., 1., 1.]]], dtype=float32)>"
            ]
          },
          "metadata": {},
          "execution_count": 33
        }
      ]
    },
    {
      "cell_type": "code",
      "source": [
        "tf.multiply(tensor,10.562)"
      ],
      "metadata": {
        "colab": {
          "base_uri": "https://localhost:8080/"
        },
        "id": "89UucBcUpx7v",
        "outputId": "f4125f0c-f0fa-4f0a-d5d8-045f6572b2f3"
      },
      "execution_count": null,
      "outputs": [
        {
          "output_type": "execute_result",
          "data": {
            "text/plain": [
              "<tf.Tensor: shape=(90000, 2, 3), dtype=float32, numpy=\n",
              "array([[[10.562, 10.562, 10.562],\n",
              "        [10.562, 10.562, 10.562]],\n",
              "\n",
              "       [[10.562, 10.562, 10.562],\n",
              "        [10.562, 10.562, 10.562]],\n",
              "\n",
              "       [[10.562, 10.562, 10.562],\n",
              "        [10.562, 10.562, 10.562]],\n",
              "\n",
              "       ...,\n",
              "\n",
              "       [[10.562, 10.562, 10.562],\n",
              "        [10.562, 10.562, 10.562]],\n",
              "\n",
              "       [[10.562, 10.562, 10.562],\n",
              "        [10.562, 10.562, 10.562]],\n",
              "\n",
              "       [[10.562, 10.562, 10.562],\n",
              "        [10.562, 10.562, 10.562]]], dtype=float32)>"
            ]
          },
          "metadata": {},
          "execution_count": 34
        }
      ]
    },
    {
      "cell_type": "code",
      "source": [
        "tensor2=tf.constant([[2,7],\n",
        "                     [3,5],\n",
        "                     [3,8]])\n",
        "tensor3=tf.constant([[2,3],\n",
        "                     [4,6]])\n",
        "tf.matmul(tensor2,tensor3)"
      ],
      "metadata": {
        "colab": {
          "base_uri": "https://localhost:8080/"
        },
        "id": "Le9JBaYH_OiF",
        "outputId": "3e17a857-6146-4eda-defe-0e40fac5b710"
      },
      "execution_count": null,
      "outputs": [
        {
          "output_type": "execute_result",
          "data": {
            "text/plain": [
              "<tf.Tensor: shape=(3, 2), dtype=int32, numpy=\n",
              "array([[32, 48],\n",
              "       [26, 39],\n",
              "       [38, 57]], dtype=int32)>"
            ]
          },
          "metadata": {},
          "execution_count": 35
        }
      ]
    },
    {
      "cell_type": "code",
      "source": [
        "tensor2@tensor3"
      ],
      "metadata": {
        "colab": {
          "base_uri": "https://localhost:8080/"
        },
        "id": "P27uS5qkDSa1",
        "outputId": "f04907f6-e9bf-4220-aa23-ced82501bb4c"
      },
      "execution_count": null,
      "outputs": [
        {
          "output_type": "execute_result",
          "data": {
            "text/plain": [
              "<tf.Tensor: shape=(3, 2), dtype=int32, numpy=\n",
              "array([[32, 48],\n",
              "       [26, 39],\n",
              "       [38, 57]], dtype=int32)>"
            ]
          },
          "metadata": {},
          "execution_count": 36
        }
      ]
    },
    {
      "cell_type": "code",
      "source": [
        "x=tf.constant([[1,2],\n",
        "               [3,4],\n",
        "               [5,6]])\n",
        "y=tf.constant([[7,8],\n",
        "               [9,10],\n",
        "               [3,7]])\n",
        "x,y\n",
        "tf.matmul(x,tf.reshape(y,shape=(2,3)))\n"
      ],
      "metadata": {
        "colab": {
          "base_uri": "https://localhost:8080/"
        },
        "id": "1_MV9fr7EwKx",
        "outputId": "4c91a9f4-2e93-43e8-8a0e-a989d18af766"
      },
      "execution_count": null,
      "outputs": [
        {
          "output_type": "execute_result",
          "data": {
            "text/plain": [
              "<tf.Tensor: shape=(3, 3), dtype=int32, numpy=\n",
              "array([[27, 14, 23],\n",
              "       [61, 36, 55],\n",
              "       [95, 58, 87]], dtype=int32)>"
            ]
          },
          "metadata": {},
          "execution_count": 37
        }
      ]
    },
    {
      "cell_type": "code",
      "source": [
        "tensor=tf.constant([[2,4],\n",
        "                   [5,7],\n",
        "                    [7,9]])\n",
        "tensor1=tf.constant([[3,4],\n",
        "                   [5,0],\n",
        "                    [0,9]])\n",
        "tensor"
      ],
      "metadata": {
        "colab": {
          "base_uri": "https://localhost:8080/"
        },
        "id": "zVU88mCNCfuR",
        "outputId": "e304e3ae-3415-4955-95c0-c22d7acd57e6"
      },
      "execution_count": null,
      "outputs": [
        {
          "output_type": "execute_result",
          "data": {
            "text/plain": [
              "<tf.Tensor: shape=(3, 2), dtype=int32, numpy=\n",
              "array([[2, 4],\n",
              "       [5, 7],\n",
              "       [7, 9]], dtype=int32)>"
            ]
          },
          "metadata": {},
          "execution_count": 38
        }
      ]
    },
    {
      "cell_type": "code",
      "source": [
        "tf.tensordot(tf.transpose(tensor),tensor1,axes=1)"
      ],
      "metadata": {
        "colab": {
          "base_uri": "https://localhost:8080/"
        },
        "id": "oaPd4XReGjxZ",
        "outputId": "11fd18e2-a27f-4cea-9d61-1cf0e14b5780"
      },
      "execution_count": null,
      "outputs": [
        {
          "output_type": "execute_result",
          "data": {
            "text/plain": [
              "<tf.Tensor: shape=(2, 2), dtype=int32, numpy=\n",
              "array([[31, 71],\n",
              "       [47, 97]], dtype=int32)>"
            ]
          },
          "metadata": {},
          "execution_count": 39
        }
      ]
    },
    {
      "cell_type": "code",
      "source": [
        "tf.matmul(tensor,tf.reshape(tensor1,shape=(2,3)))"
      ],
      "metadata": {
        "colab": {
          "base_uri": "https://localhost:8080/"
        },
        "id": "KzmH6qovHibh",
        "outputId": "1d6afa1f-ce13-44cc-8b55-d113272ad08f"
      },
      "execution_count": null,
      "outputs": [
        {
          "output_type": "execute_result",
          "data": {
            "text/plain": [
              "<tf.Tensor: shape=(3, 3), dtype=int32, numpy=\n",
              "array([[  6,   8,  46],\n",
              "       [ 15,  20,  88],\n",
              "       [ 21,  28, 116]], dtype=int32)>"
            ]
          },
          "metadata": {},
          "execution_count": 40
        }
      ]
    },
    {
      "cell_type": "code",
      "source": [
        "tf.matmul(tensor,tf.transpose(tensor1))"
      ],
      "metadata": {
        "colab": {
          "base_uri": "https://localhost:8080/"
        },
        "id": "KnPmvUpmHy2J",
        "outputId": "8b8dd217-f65b-4d52-b5d2-36284dd81e4e"
      },
      "execution_count": null,
      "outputs": [
        {
          "output_type": "execute_result",
          "data": {
            "text/plain": [
              "<tf.Tensor: shape=(3, 3), dtype=int32, numpy=\n",
              "array([[22, 10, 36],\n",
              "       [43, 25, 63],\n",
              "       [57, 35, 81]], dtype=int32)>"
            ]
          },
          "metadata": {},
          "execution_count": 41
        }
      ]
    },
    {
      "cell_type": "code",
      "source": [
        "tensor=tf.constant(tf.ones(shape=(1,256,256,3)))\n",
        "tensor"
      ],
      "metadata": {
        "id": "Wf4rvJA_M9vT",
        "colab": {
          "base_uri": "https://localhost:8080/"
        },
        "outputId": "7c9470b5-06df-4a31-c736-665423e33cd3"
      },
      "execution_count": null,
      "outputs": [
        {
          "output_type": "execute_result",
          "data": {
            "text/plain": [
              "<tf.Tensor: shape=(1, 256, 256, 3), dtype=float32, numpy=\n",
              "array([[[[1., 1., 1.],\n",
              "         [1., 1., 1.],\n",
              "         [1., 1., 1.],\n",
              "         ...,\n",
              "         [1., 1., 1.],\n",
              "         [1., 1., 1.],\n",
              "         [1., 1., 1.]],\n",
              "\n",
              "        [[1., 1., 1.],\n",
              "         [1., 1., 1.],\n",
              "         [1., 1., 1.],\n",
              "         ...,\n",
              "         [1., 1., 1.],\n",
              "         [1., 1., 1.],\n",
              "         [1., 1., 1.]],\n",
              "\n",
              "        [[1., 1., 1.],\n",
              "         [1., 1., 1.],\n",
              "         [1., 1., 1.],\n",
              "         ...,\n",
              "         [1., 1., 1.],\n",
              "         [1., 1., 1.],\n",
              "         [1., 1., 1.]],\n",
              "\n",
              "        ...,\n",
              "\n",
              "        [[1., 1., 1.],\n",
              "         [1., 1., 1.],\n",
              "         [1., 1., 1.],\n",
              "         ...,\n",
              "         [1., 1., 1.],\n",
              "         [1., 1., 1.],\n",
              "         [1., 1., 1.]],\n",
              "\n",
              "        [[1., 1., 1.],\n",
              "         [1., 1., 1.],\n",
              "         [1., 1., 1.],\n",
              "         ...,\n",
              "         [1., 1., 1.],\n",
              "         [1., 1., 1.],\n",
              "         [1., 1., 1.]],\n",
              "\n",
              "        [[1., 1., 1.],\n",
              "         [1., 1., 1.],\n",
              "         [1., 1., 1.],\n",
              "         ...,\n",
              "         [1., 1., 1.],\n",
              "         [1., 1., 1.],\n",
              "         [1., 1., 1.]]]], dtype=float32)>"
            ]
          },
          "metadata": {},
          "execution_count": 42
        }
      ]
    },
    {
      "cell_type": "code",
      "source": [
        "t=tf.constant(tf.ones(shape=(2,3)))\n",
        "t"
      ],
      "metadata": {
        "colab": {
          "base_uri": "https://localhost:8080/"
        },
        "id": "QixtvveqATBi",
        "outputId": "9d5bca27-c09e-492f-f440-049ab450eaa3"
      },
      "execution_count": null,
      "outputs": [
        {
          "output_type": "execute_result",
          "data": {
            "text/plain": [
              "<tf.Tensor: shape=(2, 3), dtype=float32, numpy=\n",
              "array([[1., 1., 1.],\n",
              "       [1., 1., 1.]], dtype=float32)>"
            ]
          },
          "metadata": {},
          "execution_count": 43
        }
      ]
    },
    {
      "cell_type": "code",
      "source": [
        "tf.reshape(t,shape=(3,2))"
      ],
      "metadata": {
        "colab": {
          "base_uri": "https://localhost:8080/"
        },
        "id": "oMq_cX8NBCzO",
        "outputId": "43d4b69f-2ee9-4a2f-ba32-7805a0435d1a"
      },
      "execution_count": null,
      "outputs": [
        {
          "output_type": "execute_result",
          "data": {
            "text/plain": [
              "<tf.Tensor: shape=(3, 2), dtype=float32, numpy=\n",
              "array([[1., 1.],\n",
              "       [1., 1.],\n",
              "       [1., 1.]], dtype=float32)>"
            ]
          },
          "metadata": {},
          "execution_count": 44
        }
      ]
    },
    {
      "cell_type": "markdown",
      "source": [
        "## **Changeing DAta Type**"
      ],
      "metadata": {
        "id": "tvWjSnOTEfRJ"
      }
    },
    {
      "cell_type": "code",
      "source": [
        "tensor=tf.constant([1.3,3.4,5.7],dtype=tf.complex64)\n",
        "tensor,tensor.dtype"
      ],
      "metadata": {
        "colab": {
          "base_uri": "https://localhost:8080/"
        },
        "id": "hPJ_hGBHESAe",
        "outputId": "b746b216-0427-4710-b955-ead4c8fed885"
      },
      "execution_count": null,
      "outputs": [
        {
          "output_type": "execute_result",
          "data": {
            "text/plain": [
              "(<tf.Tensor: shape=(3,), dtype=complex64, numpy=array([1.3+0.j, 3.4+0.j, 5.7+0.j], dtype=complex64)>,\n",
              " tf.complex64)"
            ]
          },
          "metadata": {},
          "execution_count": 45
        }
      ]
    },
    {
      "cell_type": "code",
      "source": [
        "tensor=tf.cast(tensor,tf.int32)\n",
        "tensor,tensor.dtype"
      ],
      "metadata": {
        "colab": {
          "base_uri": "https://localhost:8080/"
        },
        "id": "wZeVEQrdEyom",
        "outputId": "f574b728-566d-4ae7-c93b-07d65058fddd"
      },
      "execution_count": null,
      "outputs": [
        {
          "output_type": "execute_result",
          "data": {
            "text/plain": [
              "(<tf.Tensor: shape=(3,), dtype=int32, numpy=array([1, 3, 5], dtype=int32)>,\n",
              " tf.int32)"
            ]
          },
          "metadata": {},
          "execution_count": 46
        }
      ]
    },
    {
      "cell_type": "code",
      "source": [
        "t=tf.constant(np.random.randint(low=-100,high=100,size=(100)))\n",
        "print(t)\n",
        "print(tf.reduce_max(t))\n",
        "print(tf.reduce_min(t))\n",
        "print(tf.reduce_mean(t))\n",
        "print(tf.reduce_sum(t))\n",
        "print(tf.abs(t))"
      ],
      "metadata": {
        "colab": {
          "base_uri": "https://localhost:8080/"
        },
        "id": "PlfKoJ0yIs4P",
        "outputId": "52dc0cc6-d3e5-4559-beef-4d7f6dec5f29"
      },
      "execution_count": null,
      "outputs": [
        {
          "output_type": "stream",
          "name": "stdout",
          "text": [
            "tf.Tensor(\n",
            "[  11   35   58   84   -1    1  -91  -20   80  -47  -10  -55   70  -97\n",
            "  -69   -3   38  -85  -83   48   77   95   74   64   35   57  -18  -13\n",
            "   93   93   40  -30   26    3  -55  -30    0  -66  -95  -53  -22  -45\n",
            "  -51  -49   13  -36  -32   -3   55   64   65  -51  -35  -28   95   34\n",
            "  -72  -36  -42   87  -42  -74   43  -20   64   90  -90    2  -89  -32\n",
            "   55   98  -22   -7  -93 -100  -55   28   -5   66   68  -15   -4  -28\n",
            "   66  -99   94   65  -46  -13    5  -91  -13  -75  -28  -74   26   37\n",
            "   32   73], shape=(100,), dtype=int64)\n",
            "tf.Tensor(98, shape=(), dtype=int64)\n",
            "tf.Tensor(-100, shape=(), dtype=int64)\n",
            "tf.Tensor(-1, shape=(), dtype=int64)\n",
            "tf.Tensor(-131, shape=(), dtype=int64)\n",
            "tf.Tensor(\n",
            "[ 11  35  58  84   1   1  91  20  80  47  10  55  70  97  69   3  38  85\n",
            "  83  48  77  95  74  64  35  57  18  13  93  93  40  30  26   3  55  30\n",
            "   0  66  95  53  22  45  51  49  13  36  32   3  55  64  65  51  35  28\n",
            "  95  34  72  36  42  87  42  74  43  20  64  90  90   2  89  32  55  98\n",
            "  22   7  93 100  55  28   5  66  68  15   4  28  66  99  94  65  46  13\n",
            "   5  91  13  75  28  74  26  37  32  73], shape=(100,), dtype=int64)\n"
          ]
        }
      ]
    },
    {
      "cell_type": "code",
      "source": [
        "R=tf.random.Generator.from_seed(42)\n",
        "R=R.normal(shape=(3,2))\n",
        "R=tf.constant(np.random.randint(low=0,high=100,size=(30)))\n",
        "R"
      ],
      "metadata": {
        "colab": {
          "base_uri": "https://localhost:8080/"
        },
        "id": "LvRheA_2ZxdC",
        "outputId": "62c2529a-16b4-426d-fe63-a22b18a3e2ae"
      },
      "execution_count": null,
      "outputs": [
        {
          "output_type": "execute_result",
          "data": {
            "text/plain": [
              "<tf.Tensor: shape=(30,), dtype=int64, numpy=\n",
              "array([60,  6, 86, 36, 95, 81, 94, 26, 64, 22, 67, 34, 80, 13, 99, 99, 58,\n",
              "       81, 88, 27,  7, 42, 78, 68,  4, 39, 77, 96, 59, 41])>"
            ]
          },
          "metadata": {},
          "execution_count": 48
        }
      ]
    },
    {
      "cell_type": "code",
      "source": [
        "tf.argmax(R)\n",
        "tf.argmin(R)"
      ],
      "metadata": {
        "colab": {
          "base_uri": "https://localhost:8080/"
        },
        "id": "px4g4GiobDtt",
        "outputId": "14552f0a-86a4-43d9-d26f-f91008a74761"
      },
      "execution_count": null,
      "outputs": [
        {
          "output_type": "execute_result",
          "data": {
            "text/plain": [
              "<tf.Tensor: shape=(), dtype=int64, numpy=24>"
            ]
          },
          "metadata": {},
          "execution_count": 49
        }
      ]
    },
    {
      "cell_type": "code",
      "source": [
        "G=tf.constant(np.random.randint(0,100,50),shape=(1,1,1,1,50))\n",
        "G.shape,G.ndim"
      ],
      "metadata": {
        "colab": {
          "base_uri": "https://localhost:8080/"
        },
        "id": "3zNxP3ufcVBX",
        "outputId": "62e7e128-77b8-4e9d-ab4b-a6e8e3b17a34"
      },
      "execution_count": null,
      "outputs": [
        {
          "output_type": "execute_result",
          "data": {
            "text/plain": [
              "(TensorShape([1, 1, 1, 1, 50]), 5)"
            ]
          },
          "metadata": {},
          "execution_count": 50
        }
      ]
    },
    {
      "cell_type": "code",
      "source": [
        "print(tf.config.list_physical_devices('GPU'))"
      ],
      "metadata": {
        "colab": {
          "base_uri": "https://localhost:8080/"
        },
        "id": "Xf0mDLy0cktF",
        "outputId": "b93ef7f7-344f-4579-84e1-97d150377cba"
      },
      "execution_count": null,
      "outputs": [
        {
          "output_type": "stream",
          "name": "stdout",
          "text": [
            "[PhysicalDevice(name='/physical_device:GPU:0', device_type='GPU')]\n"
          ]
        }
      ]
    }
  ]
}