{
  "nbformat": 4,
  "nbformat_minor": 0,
  "metadata": {
    "colab": {
      "provenance": [],
      "authorship_tag": "ABX9TyP0pcvzryelRqWJPAatvqxV",
      "include_colab_link": true
    },
    "kernelspec": {
      "name": "python3",
      "display_name": "Python 3"
    },
    "language_info": {
      "name": "python"
    }
  },
  "cells": [
    {
      "cell_type": "markdown",
      "metadata": {
        "id": "view-in-github",
        "colab_type": "text"
      },
      "source": [
        "<a href=\"https://colab.research.google.com/github/shivansh1325/ML-Deep-Learning/blob/main/00Temserflow.ipynb\" target=\"_parent\"><img src=\"https://colab.research.google.com/assets/colab-badge.svg\" alt=\"Open In Colab\"/></a>"
      ]
    },
    {
      "cell_type": "code",
      "execution_count": null,
      "metadata": {
        "colab": {
          "base_uri": "https://localhost:8080/"
        },
        "id": "1K2t54gG23uN",
        "outputId": "24a91d70-d469-49e6-9f06-7f28fc9348e0"
      },
      "outputs": [
        {
          "output_type": "stream",
          "name": "stdout",
          "text": [
            "2.15.0\n"
          ]
        }
      ],
      "source": [
        "import tensorflow as tf\n",
        "print(tf.__version__)"
      ]
    },
    {
      "cell_type": "code",
      "source": [
        "#create first tensor\n",
        "tf.constant(8)"
      ],
      "metadata": {
        "colab": {
          "base_uri": "https://localhost:8080/"
        },
        "id": "Ar8tx3u83uee",
        "outputId": "09936c43-bfe7-41c2-86bd-336924bb75b1"
      },
      "execution_count": null,
      "outputs": [
        {
          "output_type": "execute_result",
          "data": {
            "text/plain": [
              "<tf.Tensor: shape=(), dtype=int32, numpy=8>"
            ]
          },
          "metadata": {},
          "execution_count": 2
        }
      ]
    },
    {
      "cell_type": "code",
      "source": [
        "vector=tf.constant([2,3])\n",
        "vector\n",
        "vector.ndim"
      ],
      "metadata": {
        "colab": {
          "base_uri": "https://localhost:8080/"
        },
        "id": "HtJsLnnL4D0b",
        "outputId": "fa6fb0ef-d2b1-4aba-d2c0-fd350844e677"
      },
      "execution_count": null,
      "outputs": [
        {
          "output_type": "execute_result",
          "data": {
            "text/plain": [
              "1"
            ]
          },
          "metadata": {},
          "execution_count": 3
        }
      ]
    },
    {
      "cell_type": "code",
      "source": [
        "mat=tf.constant([[5,6],\n",
        "                 [56,7]])\n",
        "mat"
      ],
      "metadata": {
        "colab": {
          "base_uri": "https://localhost:8080/"
        },
        "id": "IOcNyyjgv0WN",
        "outputId": "00c47868-a792-4854-8053-a240eb2b4cbc"
      },
      "execution_count": null,
      "outputs": [
        {
          "output_type": "execute_result",
          "data": {
            "text/plain": [
              "<tf.Tensor: shape=(2, 2), dtype=int32, numpy=\n",
              "array([[ 5,  6],\n",
              "       [56,  7]], dtype=int32)>"
            ]
          },
          "metadata": {},
          "execution_count": 4
        }
      ]
    },
    {
      "cell_type": "code",
      "source": [
        "tensor=tf.constant([[[3,4,5],\n",
        "                    [6,7,8]],\n",
        "                    [[4,6,7],\n",
        "                    [7,8,0]],\n",
        "                    [[4,6,7],\n",
        "                    [7,8,0]],\n",
        "                    [[4,6,7],\n",
        "                    [7,8,0]]])\n",
        "tensor\n"
      ],
      "metadata": {
        "colab": {
          "base_uri": "https://localhost:8080/"
        },
        "id": "6WcM6QFkwM-8",
        "outputId": "ec78376f-5826-419c-8070-6287a2975ece"
      },
      "execution_count": null,
      "outputs": [
        {
          "output_type": "execute_result",
          "data": {
            "text/plain": [
              "<tf.Tensor: shape=(4, 2, 3), dtype=int32, numpy=\n",
              "array([[[3, 4, 5],\n",
              "        [6, 7, 8]],\n",
              "\n",
              "       [[4, 6, 7],\n",
              "        [7, 8, 0]],\n",
              "\n",
              "       [[4, 6, 7],\n",
              "        [7, 8, 0]],\n",
              "\n",
              "       [[4, 6, 7],\n",
              "        [7, 8, 0]]], dtype=int32)>"
            ]
          },
          "metadata": {},
          "execution_count": 5
        }
      ]
    },
    {
      "cell_type": "code",
      "source": [
        "tensor.ndim"
      ],
      "metadata": {
        "colab": {
          "base_uri": "https://localhost:8080/"
        },
        "id": "721Udose0TS0",
        "outputId": "427228f6-7d5d-4173-f305-d171abcd55a2"
      },
      "execution_count": null,
      "outputs": [
        {
          "output_type": "execute_result",
          "data": {
            "text/plain": [
              "3"
            ]
          },
          "metadata": {},
          "execution_count": 6
        }
      ]
    },
    {
      "cell_type": "code",
      "source": [
        "changable_scaler=tf.Variable(8)\n",
        "changable_Vector=tf.Variable([8,9])\n",
        "changable_matrix=tf.Variable([[8,9],\n",
        "                              [8,3]])\n",
        "changable_tensor=tf.Variable([[[3,4,5],\n",
        "                    [6,7,8]],\n",
        "                    [[4,6,7],\n",
        "                    [7,8,0]],\n",
        "                    [[4,6,7],\n",
        "                    [7,8,0]],\n",
        "                    [[4,6,7],\n",
        "                    [7,8,0]]])\n"
      ],
      "metadata": {
        "id": "MQ3rpesC1BxC"
      },
      "execution_count": null,
      "outputs": []
    },
    {
      "cell_type": "code",
      "source": [
        "changable_scaler,\n",
        "changable_Vector,\n",
        "changable_matrix,\n",
        "changable_tensor"
      ],
      "metadata": {
        "colab": {
          "base_uri": "https://localhost:8080/"
        },
        "id": "Ey1y74jYHyGH",
        "outputId": "de757083-e4dc-4d7f-8cc3-d81b42b1e2b7"
      },
      "execution_count": null,
      "outputs": [
        {
          "output_type": "execute_result",
          "data": {
            "text/plain": [
              "<tf.Variable 'Variable:0' shape=(4, 2, 3) dtype=int32, numpy=\n",
              "array([[[3, 4, 5],\n",
              "        [6, 7, 8]],\n",
              "\n",
              "       [[4, 6, 7],\n",
              "        [7, 8, 0]],\n",
              "\n",
              "       [[4, 6, 7],\n",
              "        [7, 8, 0]],\n",
              "\n",
              "       [[4, 6, 7],\n",
              "        [7, 8, 0]]], dtype=int32)>"
            ]
          },
          "metadata": {},
          "execution_count": 8
        }
      ]
    },
    {
      "cell_type": "code",
      "source": [
        "changable_scaler.assign_add(2)\n",
        "changable_scaler"
      ],
      "metadata": {
        "colab": {
          "base_uri": "https://localhost:8080/"
        },
        "id": "E3Gx1HoPIQ5I",
        "outputId": "d2b8e792-926c-49b8-aa2b-1e18769c45ad"
      },
      "execution_count": null,
      "outputs": [
        {
          "output_type": "execute_result",
          "data": {
            "text/plain": [
              "<tf.Variable 'Variable:0' shape=() dtype=int32, numpy=10>"
            ]
          },
          "metadata": {},
          "execution_count": 9
        }
      ]
    },
    {
      "cell_type": "code",
      "source": [
        "changable_Vector[0].assign(8)\n",
        "changable_Vector"
      ],
      "metadata": {
        "colab": {
          "base_uri": "https://localhost:8080/"
        },
        "id": "oExcbiVuoISx",
        "outputId": "a818cb7f-4405-439a-c181-60a9a3cbf7a1"
      },
      "execution_count": null,
      "outputs": [
        {
          "output_type": "execute_result",
          "data": {
            "text/plain": [
              "<tf.Variable 'Variable:0' shape=(2,) dtype=int32, numpy=array([8, 9], dtype=int32)>"
            ]
          },
          "metadata": {},
          "execution_count": 10
        }
      ]
    },
    {
      "cell_type": "code",
      "source": [
        "changable_Vector.assign_add([10,0])\n",
        "changable_Vector"
      ],
      "metadata": {
        "colab": {
          "base_uri": "https://localhost:8080/"
        },
        "id": "sER_rTtmooYp",
        "outputId": "0f644641-9ea5-4ae3-f828-91f7c08694b4"
      },
      "execution_count": null,
      "outputs": [
        {
          "output_type": "execute_result",
          "data": {
            "text/plain": [
              "<tf.Variable 'Variable:0' shape=(2,) dtype=int32, numpy=array([18,  9], dtype=int32)>"
            ]
          },
          "metadata": {},
          "execution_count": 11
        }
      ]
    },
    {
      "cell_type": "markdown",
      "source": [
        "### Creating random tensor"
      ],
      "metadata": {
        "id": "ZBri2AT1sZzN"
      }
    },
    {
      "cell_type": "code",
      "source": [
        "random_1=tf.random.Generator.from_seed(50)\n",
        "random_1=random_1.normal(shape=(2,3))\n",
        "random_2=tf.random.Generator.from_seed(50)\n",
        "random_2=random_2.normal(shape=(2,3))\n",
        "random_1,random_2,random_1==random_2"
      ],
      "metadata": {
        "colab": {
          "base_uri": "https://localhost:8080/"
        },
        "id": "zK_yh-X4sc_O",
        "outputId": "56b2c704-9c48-46e0-dbc2-f3d59fedbf44"
      },
      "execution_count": null,
      "outputs": [
        {
          "output_type": "execute_result",
          "data": {
            "text/plain": [
              "(<tf.Tensor: shape=(2, 3), dtype=float32, numpy=\n",
              " array([[ 0.45331386,  1.1487608 , -1.2659091 ],\n",
              "        [-0.47450137,  2.006022  ,  0.28288034]], dtype=float32)>,\n",
              " <tf.Tensor: shape=(2, 3), dtype=float32, numpy=\n",
              " array([[ 0.45331386,  1.1487608 , -1.2659091 ],\n",
              "        [-0.47450137,  2.006022  ,  0.28288034]], dtype=float32)>,\n",
              " <tf.Tensor: shape=(2, 3), dtype=bool, numpy=\n",
              " array([[ True,  True,  True],\n",
              "        [ True,  True,  True]])>)"
            ]
          },
          "metadata": {},
          "execution_count": 12
        }
      ]
    },
    {
      "cell_type": "code",
      "source": [
        "unsuffeled_tensor=tf.random.Generator.from_seed(42)\n",
        "unsuffeled_tensor=unsuffeled_tensor.normal(shape=(3,2))\n",
        "unsuffeled_tensor"
      ],
      "metadata": {
        "colab": {
          "base_uri": "https://localhost:8080/"
        },
        "id": "VULKMb9G5MeX",
        "outputId": "16ee468c-b083-4335-b317-d057b79b9b51"
      },
      "execution_count": null,
      "outputs": [
        {
          "output_type": "execute_result",
          "data": {
            "text/plain": [
              "<tf.Tensor: shape=(3, 2), dtype=float32, numpy=\n",
              "array([[-0.7565803 , -0.06854702],\n",
              "       [ 0.07595026, -1.2573844 ],\n",
              "       [-0.23193763, -1.8107855 ]], dtype=float32)>"
            ]
          },
          "metadata": {},
          "execution_count": 13
        }
      ]
    },
    {
      "cell_type": "code",
      "source": [
        "tf.random.set_seed(4)\n",
        "tf.random.shuffle(unsuffeled_tensor )"
      ],
      "metadata": {
        "colab": {
          "base_uri": "https://localhost:8080/"
        },
        "id": "255Wu9Dha2Pn",
        "outputId": "27a37f3a-3254-4cd9-e246-c0f8f67b555c"
      },
      "execution_count": null,
      "outputs": [
        {
          "output_type": "execute_result",
          "data": {
            "text/plain": [
              "<tf.Tensor: shape=(3, 2), dtype=float32, numpy=\n",
              "array([[-0.7565803 , -0.06854702],\n",
              "       [ 0.07595026, -1.2573844 ],\n",
              "       [-0.23193763, -1.8107855 ]], dtype=float32)>"
            ]
          },
          "metadata": {},
          "execution_count": 14
        }
      ]
    },
    {
      "cell_type": "code",
      "source": [
        "tf.ones([3,2])"
      ],
      "metadata": {
        "colab": {
          "base_uri": "https://localhost:8080/"
        },
        "id": "JvpjwpKkcaUw",
        "outputId": "b444c981-e279-485a-8478-cba747875fd7"
      },
      "execution_count": null,
      "outputs": [
        {
          "output_type": "execute_result",
          "data": {
            "text/plain": [
              "<tf.Tensor: shape=(3, 2), dtype=float32, numpy=\n",
              "array([[1., 1.],\n",
              "       [1., 1.],\n",
              "       [1., 1.]], dtype=float32)>"
            ]
          },
          "metadata": {},
          "execution_count": 15
        }
      ]
    },
    {
      "cell_type": "code",
      "source": [
        "import numpy as np"
      ],
      "metadata": {
        "id": "9fxZ9dtwg7zu"
      },
      "execution_count": null,
      "outputs": []
    },
    {
      "cell_type": "code",
      "source": [
        "array_A=np.arange(0,50,dtype=int)\n",
        "array_A"
      ],
      "metadata": {
        "colab": {
          "base_uri": "https://localhost:8080/"
        },
        "id": "v5nJev5ShHAd",
        "outputId": "cb6a0fe0-cec5-4d69-e8da-d9845af17a20"
      },
      "execution_count": null,
      "outputs": [
        {
          "output_type": "execute_result",
          "data": {
            "text/plain": [
              "array([ 0,  1,  2,  3,  4,  5,  6,  7,  8,  9, 10, 11, 12, 13, 14, 15, 16,\n",
              "       17, 18, 19, 20, 21, 22, 23, 24, 25, 26, 27, 28, 29, 30, 31, 32, 33,\n",
              "       34, 35, 36, 37, 38, 39, 40, 41, 42, 43, 44, 45, 46, 47, 48, 49])"
            ]
          },
          "metadata": {},
          "execution_count": 17
        }
      ]
    },
    {
      "cell_type": "code",
      "source": [
        "tf.constant(array_A,shape=(25,2))"
      ],
      "metadata": {
        "colab": {
          "base_uri": "https://localhost:8080/"
        },
        "id": "fW3zQd0shUNG",
        "outputId": "bfb29881-1e03-4ba0-a234-9e68799b8bf1"
      },
      "execution_count": null,
      "outputs": [
        {
          "output_type": "execute_result",
          "data": {
            "text/plain": [
              "<tf.Tensor: shape=(25, 2), dtype=int64, numpy=\n",
              "array([[ 0,  1],\n",
              "       [ 2,  3],\n",
              "       [ 4,  5],\n",
              "       [ 6,  7],\n",
              "       [ 8,  9],\n",
              "       [10, 11],\n",
              "       [12, 13],\n",
              "       [14, 15],\n",
              "       [16, 17],\n",
              "       [18, 19],\n",
              "       [20, 21],\n",
              "       [22, 23],\n",
              "       [24, 25],\n",
              "       [26, 27],\n",
              "       [28, 29],\n",
              "       [30, 31],\n",
              "       [32, 33],\n",
              "       [34, 35],\n",
              "       [36, 37],\n",
              "       [38, 39],\n",
              "       [40, 41],\n",
              "       [42, 43],\n",
              "       [44, 45],\n",
              "       [46, 47],\n",
              "       [48, 49]])>"
            ]
          },
          "metadata": {},
          "execution_count": 18
        }
      ]
    },
    {
      "cell_type": "code",
      "source": [
        "rank_4_tensor=tf.ones(shape=(3,5,4,6), dtype=tf.int32)"
      ],
      "metadata": {
        "id": "ScpsemWahqWc"
      },
      "execution_count": null,
      "outputs": []
    },
    {
      "cell_type": "code",
      "source": [
        "rank_4_tensor,tf.size(rank_4_tensor)"
      ],
      "metadata": {
        "colab": {
          "base_uri": "https://localhost:8080/"
        },
        "id": "NFxYlfC61YbJ",
        "outputId": "6e1a7538-81c6-4d59-c757-455198615f07"
      },
      "execution_count": null,
      "outputs": [
        {
          "output_type": "execute_result",
          "data": {
            "text/plain": [
              "(<tf.Tensor: shape=(3, 5, 4, 6), dtype=int32, numpy=\n",
              " array([[[[1, 1, 1, 1, 1, 1],\n",
              "          [1, 1, 1, 1, 1, 1],\n",
              "          [1, 1, 1, 1, 1, 1],\n",
              "          [1, 1, 1, 1, 1, 1]],\n",
              " \n",
              "         [[1, 1, 1, 1, 1, 1],\n",
              "          [1, 1, 1, 1, 1, 1],\n",
              "          [1, 1, 1, 1, 1, 1],\n",
              "          [1, 1, 1, 1, 1, 1]],\n",
              " \n",
              "         [[1, 1, 1, 1, 1, 1],\n",
              "          [1, 1, 1, 1, 1, 1],\n",
              "          [1, 1, 1, 1, 1, 1],\n",
              "          [1, 1, 1, 1, 1, 1]],\n",
              " \n",
              "         [[1, 1, 1, 1, 1, 1],\n",
              "          [1, 1, 1, 1, 1, 1],\n",
              "          [1, 1, 1, 1, 1, 1],\n",
              "          [1, 1, 1, 1, 1, 1]],\n",
              " \n",
              "         [[1, 1, 1, 1, 1, 1],\n",
              "          [1, 1, 1, 1, 1, 1],\n",
              "          [1, 1, 1, 1, 1, 1],\n",
              "          [1, 1, 1, 1, 1, 1]]],\n",
              " \n",
              " \n",
              "        [[[1, 1, 1, 1, 1, 1],\n",
              "          [1, 1, 1, 1, 1, 1],\n",
              "          [1, 1, 1, 1, 1, 1],\n",
              "          [1, 1, 1, 1, 1, 1]],\n",
              " \n",
              "         [[1, 1, 1, 1, 1, 1],\n",
              "          [1, 1, 1, 1, 1, 1],\n",
              "          [1, 1, 1, 1, 1, 1],\n",
              "          [1, 1, 1, 1, 1, 1]],\n",
              " \n",
              "         [[1, 1, 1, 1, 1, 1],\n",
              "          [1, 1, 1, 1, 1, 1],\n",
              "          [1, 1, 1, 1, 1, 1],\n",
              "          [1, 1, 1, 1, 1, 1]],\n",
              " \n",
              "         [[1, 1, 1, 1, 1, 1],\n",
              "          [1, 1, 1, 1, 1, 1],\n",
              "          [1, 1, 1, 1, 1, 1],\n",
              "          [1, 1, 1, 1, 1, 1]],\n",
              " \n",
              "         [[1, 1, 1, 1, 1, 1],\n",
              "          [1, 1, 1, 1, 1, 1],\n",
              "          [1, 1, 1, 1, 1, 1],\n",
              "          [1, 1, 1, 1, 1, 1]]],\n",
              " \n",
              " \n",
              "        [[[1, 1, 1, 1, 1, 1],\n",
              "          [1, 1, 1, 1, 1, 1],\n",
              "          [1, 1, 1, 1, 1, 1],\n",
              "          [1, 1, 1, 1, 1, 1]],\n",
              " \n",
              "         [[1, 1, 1, 1, 1, 1],\n",
              "          [1, 1, 1, 1, 1, 1],\n",
              "          [1, 1, 1, 1, 1, 1],\n",
              "          [1, 1, 1, 1, 1, 1]],\n",
              " \n",
              "         [[1, 1, 1, 1, 1, 1],\n",
              "          [1, 1, 1, 1, 1, 1],\n",
              "          [1, 1, 1, 1, 1, 1],\n",
              "          [1, 1, 1, 1, 1, 1]],\n",
              " \n",
              "         [[1, 1, 1, 1, 1, 1],\n",
              "          [1, 1, 1, 1, 1, 1],\n",
              "          [1, 1, 1, 1, 1, 1],\n",
              "          [1, 1, 1, 1, 1, 1]],\n",
              " \n",
              "         [[1, 1, 1, 1, 1, 1],\n",
              "          [1, 1, 1, 1, 1, 1],\n",
              "          [1, 1, 1, 1, 1, 1],\n",
              "          [1, 1, 1, 1, 1, 1]]]], dtype=int32)>,\n",
              " <tf.Tensor: shape=(), dtype=int32, numpy=360>)"
            ]
          },
          "metadata": {},
          "execution_count": 20
        }
      ]
    },
    {
      "cell_type": "code",
      "source": [
        "rank_4_tensor.ndim,rank_4_tensor[2]"
      ],
      "metadata": {
        "colab": {
          "base_uri": "https://localhost:8080/"
        },
        "id": "DGgv8YW91fA6",
        "outputId": "ecbf6c6d-ac50-4140-cf5f-6eb194155095"
      },
      "execution_count": null,
      "outputs": [
        {
          "output_type": "execute_result",
          "data": {
            "text/plain": [
              "(4,\n",
              " <tf.Tensor: shape=(5, 4, 6), dtype=int32, numpy=\n",
              " array([[[1, 1, 1, 1, 1, 1],\n",
              "         [1, 1, 1, 1, 1, 1],\n",
              "         [1, 1, 1, 1, 1, 1],\n",
              "         [1, 1, 1, 1, 1, 1]],\n",
              " \n",
              "        [[1, 1, 1, 1, 1, 1],\n",
              "         [1, 1, 1, 1, 1, 1],\n",
              "         [1, 1, 1, 1, 1, 1],\n",
              "         [1, 1, 1, 1, 1, 1]],\n",
              " \n",
              "        [[1, 1, 1, 1, 1, 1],\n",
              "         [1, 1, 1, 1, 1, 1],\n",
              "         [1, 1, 1, 1, 1, 1],\n",
              "         [1, 1, 1, 1, 1, 1]],\n",
              " \n",
              "        [[1, 1, 1, 1, 1, 1],\n",
              "         [1, 1, 1, 1, 1, 1],\n",
              "         [1, 1, 1, 1, 1, 1],\n",
              "         [1, 1, 1, 1, 1, 1]],\n",
              " \n",
              "        [[1, 1, 1, 1, 1, 1],\n",
              "         [1, 1, 1, 1, 1, 1],\n",
              "         [1, 1, 1, 1, 1, 1],\n",
              "         [1, 1, 1, 1, 1, 1]]], dtype=int32)>)"
            ]
          },
          "metadata": {},
          "execution_count": 21
        }
      ]
    },
    {
      "cell_type": "code",
      "source": [
        "rank_4_tensor.shape"
      ],
      "metadata": {
        "id": "SSBRphnQ3JX5",
        "colab": {
          "base_uri": "https://localhost:8080/"
        },
        "outputId": "8fb4c705-a7db-4991-ba37-d69c70861331"
      },
      "execution_count": null,
      "outputs": [
        {
          "output_type": "execute_result",
          "data": {
            "text/plain": [
              "TensorShape([3, 5, 4, 6])"
            ]
          },
          "metadata": {},
          "execution_count": 22
        }
      ]
    },
    {
      "cell_type": "code",
      "source": [
        "rank_4_tensor.ndim"
      ],
      "metadata": {
        "colab": {
          "base_uri": "https://localhost:8080/"
        },
        "id": "Td72wGSA24VU",
        "outputId": "b8985848-c50e-47d6-84f8-86b8b06861be"
      },
      "execution_count": null,
      "outputs": [
        {
          "output_type": "execute_result",
          "data": {
            "text/plain": [
              "4"
            ]
          },
          "metadata": {},
          "execution_count": 23
        }
      ]
    },
    {
      "cell_type": "code",
      "source": [
        "# Get various attributes of tensor\n",
        "print(\"Datatype of every element:\", rank_4_tensor.dtype)\n",
        "print(\"Number of dimensions (rank):\", rank_4_tensor.ndim)\n",
        "print(\"Shape of tensor:\", rank_4_tensor.shape)\n",
        "print(\"Elements along axis 0 of tensor:\", rank_4_tensor.shape[0])\n",
        "print(\"Elements along last axis of tensor:\", rank_4_tensor.shape[-1])\n",
        "print(\"Total number of elements (3, 5, 4, 6):\", tf.size(rank_4_tensor).numpy()) # .numpy() converts to NumPy array"
      ],
      "metadata": {
        "colab": {
          "base_uri": "https://localhost:8080/"
        },
        "id": "kCg7Xvpl3QxL",
        "outputId": "d0574543-b3a0-45a3-ddd2-42ca27843a65"
      },
      "execution_count": null,
      "outputs": [
        {
          "output_type": "stream",
          "name": "stdout",
          "text": [
            "Datatype of every element: <dtype: 'int32'>\n",
            "Number of dimensions (rank): 4\n",
            "Shape of tensor: (3, 5, 4, 6)\n",
            "Elements along axis 0 of tensor: 3\n",
            "Elements along last axis of tensor: 6\n",
            "Total number of elements (3, 5, 4, 6): 360\n"
          ]
        }
      ]
    },
    {
      "cell_type": "code",
      "source": [
        "rank_4_tensor[:2,:2,:3,:2]"
      ],
      "metadata": {
        "colab": {
          "base_uri": "https://localhost:8080/"
        },
        "id": "eOq_L6e743Md",
        "outputId": "e23facd2-5047-4c18-9e5d-25fc42f88667"
      },
      "execution_count": null,
      "outputs": [
        {
          "output_type": "execute_result",
          "data": {
            "text/plain": [
              "<tf.Tensor: shape=(2, 2, 3, 2), dtype=int32, numpy=\n",
              "array([[[[1, 1],\n",
              "         [1, 1],\n",
              "         [1, 1]],\n",
              "\n",
              "        [[1, 1],\n",
              "         [1, 1],\n",
              "         [1, 1]]],\n",
              "\n",
              "\n",
              "       [[[1, 1],\n",
              "         [1, 1],\n",
              "         [1, 1]],\n",
              "\n",
              "        [[1, 1],\n",
              "         [1, 1],\n",
              "         [1, 1]]]], dtype=int32)>"
            ]
          },
          "metadata": {},
          "execution_count": 28
        }
      ]
    },
    {
      "cell_type": "code",
      "source": [
        "rank_4_tensor[:1,:1,:1,:]"
      ],
      "metadata": {
        "colab": {
          "base_uri": "https://localhost:8080/"
        },
        "id": "Q9KMTk6adZBI",
        "outputId": "2a970ee4-2bb7-42fc-c72f-132148fb66b5"
      },
      "execution_count": null,
      "outputs": [
        {
          "output_type": "execute_result",
          "data": {
            "text/plain": [
              "<tf.Tensor: shape=(1, 1, 1, 6), dtype=int32, numpy=array([[[[1, 1, 1, 1, 1, 1]]]], dtype=int32)>"
            ]
          },
          "metadata": {},
          "execution_count": 30
        }
      ]
    },
    {
      "cell_type": "code",
      "source": [],
      "metadata": {
        "id": "4nLq0O8WdvUN"
      },
      "execution_count": null,
      "outputs": []
    }
  ]
}