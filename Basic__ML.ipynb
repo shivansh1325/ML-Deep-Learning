{
  "nbformat": 4,
  "nbformat_minor": 0,
  "metadata": {
    "colab": {
      "provenance": [],
      "authorship_tag": "ABX9TyMICDQEzln/KzT7et0qwG9I"
    },
    "kernelspec": {
      "name": "python3",
      "display_name": "Python 3"
    },
    "language_info": {
      "name": "python"
    }
  },
  "cells": [
    {
      "cell_type": "markdown",
      "source": [
        "There are so many different types of Machine Learning systems that it is useful to\n",
        "classify them in broad categories, based on the following criteria:\n",
        "\n",
        "• Whether or not they are trained with human supervision (supervised, unsuper‐\n",
        "vised, semisupervised, and Reinforcement Learning)\n",
        "\n",
        "• Whether or not they can learn incrementally on the fly (online versus batch\n",
        "learning)\n",
        "\n",
        "• Whether they work by simply comparing new data points to known data points,\n",
        "or instead by detecting patterns in the training data and building a predictive\n",
        "model, much like scientists do (instance-based versus model-based learning)"
      ],
      "metadata": {
        "id": "5at6rfsw1bL1"
      }
    },
    {
      "cell_type": "markdown",
      "source": [
        "Supervised learning\n",
        "In supervised learning, the training set you feed to the algorithm includes the desired\n",
        "solutions, called labels\n",
        "\n",
        "Here are some of the most important supervised learning algorithms (covered in this\n",
        "book):\n",
        "\n",
        "• k-Nearest Neighbors\n",
        "\n",
        "• Linear Regression\n",
        "\n",
        "• Logistic Regression\n",
        "\n",
        "• Support Vector Machines (SVMs)\n",
        "\n",
        "• Decision Trees and Random Forests\n",
        "\n",
        "• Neural networks2"
      ],
      "metadata": {
        "id": "bd8wxi-c1n76"
      }
    },
    {
      "cell_type": "markdown",
      "source": [
        "In unsupervised learning, as you might guess, the training data is unlabeled\n",
        "\n",
        "Here are some of the most important unsupervised learning algorithms (most of\n",
        "these are covered in Chapters 8 and 9):\n",
        "\n",
        "• Clustering\n",
        "\n",
        "— K-Means\n",
        "\n",
        "— DBSCAN\n",
        "\n",
        "— Hierarchical Cluster Analysis (HCA)\n",
        "\n",
        "• Anomaly detection and novelty detection\n",
        "\n",
        "— One-class SVM\n",
        "\n",
        "— Isolation Forest\n",
        "\n",
        "• Visualization and dimensionality reduction\n",
        "\n",
        "— Principal Component Analysis (PCA)\n",
        "\n",
        "— Kernel PCA\n",
        "\n",
        "— Locally Linear Embedding (LLE)\n",
        "\n",
        "— t-Distributed Stochastic Neighbor Embedding (t-SNE)\n",
        "\n",
        "• Association rule learning\n",
        "\n",
        "— Apriori\n",
        "\n",
        "— Eclat"
      ],
      "metadata": {
        "id": "DXkYlis12VJY"
      }
    },
    {
      "cell_type": "code",
      "source": [],
      "metadata": {
        "id": "Ie7aOs6s2EBC"
      },
      "execution_count": null,
      "outputs": []
    }
  ]
}