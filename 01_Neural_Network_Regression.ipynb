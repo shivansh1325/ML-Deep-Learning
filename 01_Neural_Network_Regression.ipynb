{
  "nbformat": 4,
  "nbformat_minor": 0,
  "metadata": {
    "colab": {
      "provenance": [],
      "authorship_tag": "ABX9TyN2LIt1/NNU+03q30yxBOoV",
      "include_colab_link": true
    },
    "kernelspec": {
      "name": "python3",
      "display_name": "Python 3"
    },
    "language_info": {
      "name": "python"
    }
  },
  "cells": [
    {
      "cell_type": "markdown",
      "metadata": {
        "id": "view-in-github",
        "colab_type": "text"
      },
      "source": [
        "<a href=\"https://colab.research.google.com/github/shivansh1325/ML-Deep-Learning/blob/main/01_Neural_Network_Regression.ipynb\" target=\"_parent\"><img src=\"https://colab.research.google.com/assets/colab-badge.svg\" alt=\"Open In Colab\"/></a>"
      ]
    },
    {
      "cell_type": "code",
      "execution_count": 2,
      "metadata": {
        "id": "cjqj9ue3Q18f"
      },
      "outputs": [],
      "source": [
        "import tensorflow as tf\n",
        "import numpy as np"
      ]
    },
    {
      "cell_type": "code",
      "source": [
        "tf.constant(np.random.randint(0,50,size=(3,3)))"
      ],
      "metadata": {
        "colab": {
          "base_uri": "https://localhost:8080/"
        },
        "id": "YgEiHaxsRPbN",
        "outputId": "c37271bf-9526-4264-e3a6-ff1ada79d57e"
      },
      "execution_count": 3,
      "outputs": [
        {
          "output_type": "execute_result",
          "data": {
            "text/plain": [
              "<tf.Tensor: shape=(3, 3), dtype=int64, numpy=\n",
              "array([[12,  8, 33],\n",
              "       [15, 35, 10],\n",
              "       [ 8, 36,  4]])>"
            ]
          },
          "metadata": {},
          "execution_count": 3
        }
      ]
    },
    {
      "cell_type": "code",
      "source": [
        "tf.random.uniform(shape=(3,3))"
      ],
      "metadata": {
        "id": "lFy4xWhJR9_V",
        "colab": {
          "base_uri": "https://localhost:8080/"
        },
        "outputId": "8fa8d05f-bda0-4350-d158-bfdbde30726d"
      },
      "execution_count": 4,
      "outputs": [
        {
          "output_type": "execute_result",
          "data": {
            "text/plain": [
              "<tf.Tensor: shape=(3, 3), dtype=float32, numpy=\n",
              "array([[0.31741285, 0.6107222 , 0.71810997],\n",
              "       [0.4521147 , 0.31512392, 0.53984797],\n",
              "       [0.08741915, 0.17149651, 0.68231297]], dtype=float32)>"
            ]
          },
          "metadata": {},
          "execution_count": 4
        }
      ]
    }
  ]
}